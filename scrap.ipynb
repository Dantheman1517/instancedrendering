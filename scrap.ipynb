{
 "cells": [
  {
   "cell_type": "markdown",
   "metadata": {},
   "source": [
    "3 4 5 no \n",
    "4 3 5 no\n",
    "\n",
    "5 3 4 no\n",
    "3 5 4\n"
   ]
  },
  {
   "cell_type": "code",
   "execution_count": 1,
   "metadata": {},
   "outputs": [
    {
     "data": {
      "text/plain": [
       "-0.11043223000000002"
      ]
     },
     "execution_count": 1,
     "metadata": {},
     "output_type": "execute_result"
    }
   ],
   "source": [
    "-6.33051 * 3.14/180"
   ]
  },
  {
   "cell_type": "code",
   "execution_count": 1,
   "metadata": {},
   "outputs": [
    {
     "name": "stdout",
     "output_type": "stream",
     "text": [
      "0.4636476090008061\n"
     ]
    }
   ],
   "source": [
    "import math\n",
    "\n",
    "value = 0.5\n",
    "result = math.atan(value)\n",
    "print(result)\n",
    "\n",
    "ex = -1.875\n",
    "ey = .4588\n",
    "ez = 5.312\n",
    "\n",
    "theta = math.atan(ex/(math.sqrt("
   ]
  },
  {
   "cell_type": "code",
   "execution_count": 2,
   "metadata": {},
   "outputs": [
    {
     "ename": "NameError",
     "evalue": "name 'rotated_vector' is not defined",
     "output_type": "error",
     "traceback": [
      "\u001b[1;31m---------------------------------------------------------------------------\u001b[0m",
      "\u001b[1;31mNameError\u001b[0m                                 Traceback (most recent call last)",
      "Input \u001b[1;32mIn [2]\u001b[0m, in \u001b[0;36m<module>\u001b[1;34m\u001b[0m\n\u001b[0;32m     29\u001b[0m all_rotations \u001b[38;5;241m=\u001b[39m np\u001b[38;5;241m.\u001b[39mdot(rotation_x, np\u001b[38;5;241m.\u001b[39mdot(rotation_y, rotation_z))\n\u001b[0;32m     32\u001b[0m \u001b[38;5;66;03m# Rotate the vector\u001b[39;00m\n\u001b[0;32m     33\u001b[0m \u001b[38;5;66;03m# rotated_vector = np.dot(rotation_z, np.dot(rotation_y, np.dot(rotation_x, init_vector)))\u001b[39;00m\n\u001b[0;32m     34\u001b[0m \u001b[38;5;66;03m# rotated_vector = np.dot(rotation_x, np.dot(rotation_y, np.dot(rotation_z, init_vector)))\u001b[39;00m\n\u001b[1;32m   (...)\u001b[0m\n\u001b[0;32m     38\u001b[0m \n\u001b[0;32m     39\u001b[0m \u001b[38;5;66;03m# Print the result\u001b[39;00m\n\u001b[1;32m---> 40\u001b[0m \u001b[38;5;28mprint\u001b[39m(\u001b[43mrotated_vector\u001b[49m)\n",
      "\u001b[1;31mNameError\u001b[0m: name 'rotated_vector' is not defined"
     ]
    }
   ],
   "source": [
    "import numpy as np\n",
    "\n",
    "\n",
    "angle_x = 1.3768949154113144\n",
    "rotation_x = np.array([[1, 0, 0],\n",
    "                       [0, np.cos(angle_x), -np.sin(angle_x)],\n",
    "                       [0, np.sin(angle_x), np.cos(angle_x)]])\n",
    "\n",
    "angle_y = 0.29196922839612693\n",
    "rotation_y = np.array([[np.cos(angle_y), 0, np.sin(angle_y)],\n",
    "                       [0, 1, 0],\n",
    "                       [-np.sin(angle_y), 0, np.cos(angle_y)]])\n",
    "\n",
    "\n",
    "angle_z = 0.35368774897177446\n",
    "rotation_z = np.array([[np.cos(angle_z), -np.sin(angle_z), 0],\n",
    "                       [np.sin(angle_z), np.cos(angle_z), 0],\n",
    "                       [0, 0, 1]])\n",
    "\n",
    "# Define the vector\n",
    "vector = np.array([-1.875, 0.46880000000000166, 5.312000000000012])\n",
    "magnitude = np.linalg.norm(vector)\n",
    "\n",
    "init_vector = magnitude * np.array([0, 1, 0])\n",
    "\n",
    "\n",
    "# https://en.wikipedia.org/wiki/Rotation_matrix\n",
    "# Rz * Ry * Rx\n",
    "all_rotations = np.dot(rotation_x, np.dot(rotation_y, rotation_z))\n",
    "\n",
    "\n",
    "# Rotate the vector\n",
    "# rotated_vector = np.dot(rotation_z, np.dot(rotation_y, np.dot(rotation_x, init_vector)))\n",
    "# rotated_vector = np.dot(rotation_x, np.dot(rotation_y, np.dot(rotation_z, init_vector)))\n",
    "# rotated_vector = np.dot(all_rotations, init_vector)\n",
    "\n",
    "\n",
    "\n",
    "# Print the result\n",
    "print(rotated_vector)\n"
   ]
  },
  {
   "cell_type": "code",
   "execution_count": 4,
   "metadata": {},
   "outputs": [
    {
     "ename": "AttributeError",
     "evalue": "type object 'scipy.spatial.transform._rotation.Rotation' has no attribute 'from_vectors'",
     "output_type": "error",
     "traceback": [
      "\u001b[1;31m---------------------------------------------------------------------------\u001b[0m",
      "\u001b[1;31mAttributeError\u001b[0m                            Traceback (most recent call last)",
      "Input \u001b[1;32mIn [4]\u001b[0m, in \u001b[0;36m<module>\u001b[1;34m\u001b[0m\n\u001b[0;32m     16\u001b[0m init_vector \u001b[38;5;241m/\u001b[39m\u001b[38;5;241m=\u001b[39m np\u001b[38;5;241m.\u001b[39mlinalg\u001b[38;5;241m.\u001b[39mnorm(init_vector)\n\u001b[0;32m     18\u001b[0m \u001b[38;5;66;03m# Compute the rotation quaternion\u001b[39;00m\n\u001b[1;32m---> 19\u001b[0m rotation_quaternion \u001b[38;5;241m=\u001b[39m \u001b[43mRotation\u001b[49m\u001b[38;5;241;43m.\u001b[39;49m\u001b[43mfrom_vectors\u001b[49m(vector, init_vector)\u001b[38;5;241m.\u001b[39mas_quat()\n\u001b[0;32m     21\u001b[0m \u001b[38;5;66;03m# Print the result\u001b[39;00m\n\u001b[0;32m     22\u001b[0m \u001b[38;5;28mprint\u001b[39m(rotation_quaternion)\n",
      "\u001b[1;31mAttributeError\u001b[0m: type object 'scipy.spatial.transform._rotation.Rotation' has no attribute 'from_vectors'"
     ]
    }
   ],
   "source": [
    "from scipy.spatial.transform import Rotation\n",
    "vector = np.array([-1.875, 0.46880000000000166, 5.312000000000012])\n",
    "magnitude = np.linalg.norm(vector)\n",
    "\n",
    "init_vector = magnitude * np.array([0, 1, 0])\n",
    "\n",
    "\n",
    "\n",
    "\n",
    "# Define the vectors\n",
    "vector = np.array([-1.875, 0.46880000000000166, 5.312000000000012])\n",
    "init_vector = np.array([0, 1.0, 0])\n",
    "\n",
    "# Normalize the vectors\n",
    "vector /= np.linalg.norm(vector)\n",
    "init_vector /= np.linalg.norm(init_vector)\n",
    "\n",
    "# Compute the rotation quaternion\n",
    "rotation_quaternion = Rotation.from_vectors(vector, init_vector).as_quat()\n",
    "\n",
    "# Print the result\n",
    "print(rotation_quaternion)\n"
   ]
  },
  {
   "cell_type": "code",
   "execution_count": 12,
   "metadata": {},
   "outputs": [
    {
     "name": "stdout",
     "output_type": "stream",
     "text": [
      "Rotation vector: [ 0.         -5.60371751  0.09110458]\n"
     ]
    }
   ],
   "source": [
    "from scipy.spatial.transform import Rotation\n",
    "import numpy as np\n",
    "\n",
    "def rotation_vector_between_vectors(v1, v2):\n",
    "    \"\"\"\n",
    "    Calculate rotation vector between two vectors using quaternions.\n",
    "\n",
    "    Args:\n",
    "    - v1 (numpy array): Initial vector\n",
    "    - v2 (numpy array): Final vector\n",
    "\n",
    "    Returns:\n",
    "    - rotation vector (numpy array): Rotation vector representing the rotation from v1 to v2\n",
    "    \"\"\"\n",
    "    # Normalize input vectors\n",
    "    v1 = v1 / np.linalg.norm(v1)\n",
    "    v2 = v2 / np.linalg.norm(v2)\n",
    "    \n",
    "    # Calculate rotation using quaternions\n",
    "    rotation = Rotation.from_rotvec(np.pi * np.cross(v1, v2))\n",
    "    quaternion = rotation.as_quat()\n",
    "\n",
    "    # Convert quaternion to rotation vector\n",
    "    rotation_vector = 2 * np.arccos(quaternion[0]) * quaternion[1:] / np.linalg.norm(quaternion[1:])\n",
    "    return rotation_vector\n",
    "\n",
    "# Example usage\n",
    "vector = np.array([-1.875, 0.46880000000000166, 5.312000000000012])\n",
    "init_vector = np.array([0, 1.0, 0])\n",
    "v1 = vector\n",
    "v2 = init_vector\n",
    "rotation_vector = rotation_vector_between_vectors(v1, v2)\n",
    "print(\"Rotation vector:\", rotation_vector)\n"
   ]
  }
 ],
 "metadata": {
  "kernelspec": {
   "display_name": "Python 3",
   "language": "python",
   "name": "python3"
  },
  "language_info": {
   "codemirror_mode": {
    "name": "ipython",
    "version": 3
   },
   "file_extension": ".py",
   "mimetype": "text/x-python",
   "name": "python",
   "nbconvert_exporter": "python",
   "pygments_lexer": "ipython3",
   "version": "3.10.2"
  }
 },
 "nbformat": 4,
 "nbformat_minor": 2
}
